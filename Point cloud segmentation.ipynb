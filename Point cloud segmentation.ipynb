{
 "cells": [
  {
   "cell_type": "code",
   "execution_count": 3,
   "metadata": {},
   "outputs": [],
   "source": [
    "import open3d as o3d\n",
    "mesh = o3d.io.read_triangle_mesh(\"room_mesh_closed.ply\")\n",
    "pcd = mesh.sample_points_poisson_disk(number_of_points=100000, init_factor=5)#.sample_points_uniformly(number_of_points=100000)\n",
    "o3d.visualization.draw_geometries([pcd])"
   ]
  },
  {
   "cell_type": "code",
   "execution_count": 4,
   "metadata": {},
   "outputs": [
    {
     "data": {
      "text/plain": [
       "True"
      ]
     },
     "execution_count": 4,
     "metadata": {},
     "output_type": "execute_result"
    }
   ],
   "source": [
    "o3d.io.write_point_cloud(\"room_point_cloud_closed.ply\", pcd)"
   ]
  },
  {
   "cell_type": "code",
   "execution_count": 12,
   "metadata": {},
   "outputs": [],
   "source": [
    "\"\"\"\n",
    "Please cite the following paper (related to this topic), if this code helps you in your research.\n",
    "   @article{xia2020geometric,\n",
    "            title={Geometric primitives in LiDAR point clouds: A review},\n",
    "            author={Xia, Shaobo and Chen, Dong and Wang, Ruisheng and Li, Jonathan and Zhang, Xinchang},\n",
    "            journal={IEEE Journal of Selected Topics in Applied Earth Observations and Remote Sensing},\n",
    "            volume={13},\n",
    "            pages={685--707},\n",
    "            year={2020},\n",
    "            publisher={IEEE}\n",
    "           }\n",
    "    Parts of codes are from https://github.com/CGAL/cgal-swig-bindings/blob/main/examples/python/Shape_detection_example.py\n",
    "    and from https://github.com/GeoVectorMatrix/Open3D_Based_Py/blob/main/Algorithms/CGALShapes/CGALShapesO3D_Demo.py\n",
    "\"\"\"      \n",
    "from CGAL.CGAL_Kernel import Point_3\n",
    "from CGAL.CGAL_Kernel import Vector_3\n",
    "from CGAL.CGAL_Point_set_3 import Point_set_3\n",
    "from CGAL.CGAL_Shape_detection import *\n",
    "import open3d as o3d\n",
    "import os\n",
    "import numpy as np\n",
    "import matplotlib.pyplot as plt\n",
    "\n",
    "datafile = \"room_point_cloud_closed.ply\"\n",
    "points = Point_set_3(datafile)\n",
    "\n",
    "# Prepare data for open3d\n",
    "npPt = np.zeros((points.size(), 3))\n",
    "npNor = np.zeros((points.size(), 3))\n",
    "npCol =  np.zeros((points.size(), 3))\n",
    "for i in range(points.size()):\n",
    "    ar = np.array([points.point(i).x(),points.point(i).y(),points.point(i).z()])\n",
    "    nor = np.array([points.normal_map().get(i).x(), points.normal_map().get(i).y(), points.normal_map().get(i).z()])\n",
    "    col = np.array([points.int_map(\"red\").get(i), points.int_map(\"green\").get(i), points.int_map(\"blue\").get(i)]) / 255\n",
    "    npPt[i] = ar.copy()\n",
    "    npNor[i] = nor.copy()   \n",
    "    npCol[i] = col.copy()\n",
    "pcd = o3d.geometry.PointCloud()\n",
    "pcd.points = o3d.utility.Vector3dVector(npPt)\n",
    "pcd.normals = o3d.utility.Vector3dVector(npNor)\n",
    "pcd.colors = o3d.utility.Vector3dVector(npCol)\n",
    "\n",
    "o3d.visualization.draw_geometries([pcd])  # show original point clouds.\n"
   ]
  },
  {
   "cell_type": "code",
   "execution_count": 6,
   "metadata": {},
   "outputs": [
    {
     "name": "stdout",
     "output_type": "stream",
     "text": [
      "100000 points read\n",
      "Detecting planes with region growing (sphere query)\n",
      "13 planes(s) detected\n"
     ]
    }
   ],
   "source": [
    "\n",
    "# CGAL plane detection by the region growing\n",
    "print(points.size(), \"points read\")\n",
    "print(\"Detecting planes with region growing (sphere query)\")\n",
    "plane_map = points.add_int_map(\"plane_index\")\n",
    "nb_planes = region_growing(points, plane_map, min_points=1000)\n",
    "\n",
    "print(nb_planes, \"planes(s) detected\")\n",
    "#"
   ]
  },
  {
   "cell_type": "code",
   "execution_count": 7,
   "metadata": {},
   "outputs": [
    {
     "name": "stdout",
     "output_type": "stream",
     "text": [
      "14\n",
      "point cloud has 14 clusters\n"
     ]
    }
   ],
   "source": [
    "labels  = np.zeros(points.size()).astype(int)\n",
    "PlaneList = [[] for i in range(nb_planes+1)]  # index -1 for others\n",
    "for i in range(points.size()):\n",
    "    labels[i] = points.int_map('plane_index').get(i)\n",
    "    PlaneList[labels[i]+1].append(i)\n",
    "print(len(PlaneList))\n",
    "# Visualizer\n",
    "max_label = len(PlaneList)\n",
    "print(f\"point cloud has {max_label} clusters\")\n",
    "colors = plt.get_cmap(\"tab20\")(labels / (max_label if max_label > 0 else 1))\n",
    "colors[labels < 0] = 1  # set to white for small clusters (label - 0 )\n",
    "pcd.colors = o3d.utility.Vector3dVector(colors[:, :3])\n",
    "o3d.visualization.draw_geometries([pcd])"
   ]
  },
  {
   "cell_type": "code",
   "execution_count": 8,
   "metadata": {},
   "outputs": [
    {
     "name": "stdout",
     "output_type": "stream",
     "text": [
      "14\n"
     ]
    }
   ],
   "source": [
    "labels  = np.zeros(points.size()).astype(int)\n",
    "PlaneList = [[] for i in range(nb_planes+1)]  # index -1 for others\n",
    "PlanePointDict = {}\n",
    "NormalPointDict = {}\n",
    "PlaneColDict = {}\n",
    "for i in range(points.size()):\n",
    "    pl_idx = points.int_map('plane_index').get(i)\n",
    "    labels[i] = pl_idx\n",
    "    PlaneList[labels[i]+1].append(i)\n",
    "    if pl_idx not in PlanePointDict.keys():\n",
    "        PlanePointDict[pl_idx] = []\n",
    "    if pl_idx not in PlaneColDict.keys():\n",
    "        PlaneColDict[pl_idx] = []\n",
    "    if pl_idx not in NormalPointDict.keys():\n",
    "        NormalPointDict[pl_idx] = []\n",
    "    ar = np.array([points.point(i).x(),points.point(i).y(),points.point(i).z()])\n",
    "    nor = np.array([points.normal_map().get(i).x(), points.normal_map().get(i).y(), points.normal_map().get(i).z()])\n",
    "    col = np.array([points.int_map(\"red\").get(i), points.int_map(\"green\").get(i), points.int_map(\"blue\").get(i)]) / 255\n",
    "    \n",
    "    PlanePointDict[pl_idx].append(ar)  \n",
    "    NormalPointDict[pl_idx].append(nor)   \n",
    "    PlaneColDict[pl_idx].append(col)\n",
    "\n",
    "print(len(PlaneList))"
   ]
  },
  {
   "cell_type": "code",
   "execution_count": 9,
   "metadata": {},
   "outputs": [
    {
     "name": "stdout",
     "output_type": "stream",
     "text": [
      "point cloud has 6 clusters\n",
      "point cloud has 132 clusters\n",
      "point cloud has 8 clusters\n",
      "point cloud has 13 clusters\n",
      "point cloud has 13 clusters\n",
      "point cloud has 4 clusters\n",
      "point cloud has 8 clusters\n",
      "point cloud has 6 clusters\n",
      "point cloud has 4 clusters\n",
      "point cloud has 4 clusters\n",
      "point cloud has 4 clusters\n",
      "point cloud has 2 clusters\n",
      "point cloud has 2 clusters\n",
      "point cloud has 6 clusters\n"
     ]
    }
   ],
   "source": [
    "from sklearn.cluster import DBSCAN\n",
    "import numpy as np\n",
    "import sklearn\n",
    "\n",
    "\n",
    "geos = []\n",
    "\n",
    "for j in PlanePointDict.keys():\n",
    "\n",
    "    npPt = np.zeros((len(PlanePointDict[j]), 3))\n",
    "    npNor =  np.zeros((len(NormalPointDict[j]), 3))\n",
    "    npCol =  np.zeros((len(PlaneColDict[j]), 3))\n",
    "    \n",
    "    npDb = np.zeros((len(PlaneColDict[j]), 6))\n",
    "    for i in range(len(PlanePointDict[j])):\n",
    "        npPt[i] = PlanePointDict[j][i].copy()\n",
    "        npNor[i] = NormalPointDict[j][i].copy()\n",
    "        npCol[i] = PlaneColDict[j][i].copy()\n",
    "        \n",
    "        npDb[i] = np.concatenate((npPt[i], npCol[i] * 25), axis=None)\n",
    "    \n",
    "    clustering = DBSCAN(eps=0.85).fit(npDb)\n",
    "    \n",
    "    max_label = len(set(clustering.labels_))\n",
    "    print(f\"point cloud has {max_label} clusters\")\n",
    "    colors = plt.get_cmap(\"tab20\")(clustering.labels_ / (max_label if max_label > 0 else 1))\n",
    "    colors[clustering.labels_ < 0] = 1  # set to white for small clusters (label - 0 )\n",
    "    \n",
    "    pcd_ = o3d.geometry.PointCloud()\n",
    "    pcd_.points = o3d.utility.Vector3dVector(npPt)\n",
    "    pcd_.normals = o3d.utility.Vector3dVector(npNor)\n",
    "    pcd_.colors = o3d.utility.Vector3dVector(colors[:, :3])\n",
    "                                            \n",
    "    geos.append(pcd_)\n",
    "    geos.append(pcd_.get_axis_aligned_bounding_box())\n",
    "\n",
    "o3d.visualization.draw_geometries(geos)  # show original point clouds."
   ]
  },
  {
   "cell_type": "code",
   "execution_count": 10,
   "metadata": {},
   "outputs": [
    {
     "name": "stdout",
     "output_type": "stream",
     "text": [
      "point cloud has 13 clusters\n"
     ]
    }
   ],
   "source": [
    "from sklearn.cluster import DBSCAN\n",
    "import numpy as np\n",
    "import sklearn\n",
    "\n",
    "\n",
    "geos = []\n",
    "for j in PlanePointDict.keys():\n",
    "    if j != 3:\n",
    "        continue\n",
    "    npPt = np.zeros((len(PlanePointDict[j]), 3))\n",
    "    npNor =  np.zeros((len(NormalPointDict[j]), 3))\n",
    "    npCol =  np.zeros((len(PlaneColDict[j]), 3))\n",
    "    \n",
    "    npDb = np.zeros((len(PlaneColDict[j]), 6))\n",
    "    for i in range(len(PlanePointDict[j])):\n",
    "        npPt[i] = PlanePointDict[j][i].copy()\n",
    "        npNor[i] = NormalPointDict[j][i].copy()\n",
    "        npCol[i] = PlaneColDict[j][i].copy()\n",
    "        \n",
    "        npDb[i] = np.concatenate((npPt[i], npCol[i] * 25), axis=None)\n",
    "    \n",
    "    clustering = DBSCAN(eps=0.85).fit(npDb)\n",
    "    \n",
    "    max_label = len(set(clustering.labels_))\n",
    "    print(f\"point cloud has {max_label} clusters\")\n",
    "    colors = plt.get_cmap(\"tab20\")(clustering.labels_ / (max_label if max_label > 0 else 1))\n",
    "    colors[clustering.labels_ < 0] = 1  # set to white for small clusters (label - 0 )\n",
    "    \n",
    "    pcd_ = o3d.geometry.PointCloud()\n",
    "\n",
    "    pcd_.points = o3d.utility.Vector3dVector(npPt)\n",
    "    pcd_.normals = o3d.utility.Vector3dVector(npNor)\n",
    "    pcd_.colors = o3d.utility.Vector3dVector(colors[:, :3])\n",
    "                                            \n",
    "    geos.append(pcd_)\n",
    "    geos.append(pcd_.get_axis_aligned_bounding_box())\n",
    "\n",
    "\n",
    "\n",
    "o3d.visualization.draw_geometries(geos)  # show original point clouds."
   ]
  },
  {
   "cell_type": "code",
   "execution_count": 11,
   "metadata": {},
   "outputs": [
    {
     "data": {
      "text/plain": [
       "True"
      ]
     },
     "execution_count": 11,
     "metadata": {},
     "output_type": "execute_result"
    }
   ],
   "source": [
    "o3d.io.write_point_cloud(\"room_point_cloud_closed_building_element.pts\", pcd_)"
   ]
  }
 ],
 "metadata": {
  "kernelspec": {
   "display_name": "week11",
   "language": "python",
   "name": "python3"
  },
  "language_info": {
   "codemirror_mode": {
    "name": "ipython",
    "version": 3
   },
   "file_extension": ".py",
   "mimetype": "text/x-python",
   "name": "python",
   "nbconvert_exporter": "python",
   "pygments_lexer": "ipython3",
   "version": "3.8.8"
  }
 },
 "nbformat": 4,
 "nbformat_minor": 2
}
